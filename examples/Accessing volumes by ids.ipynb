{
 "cells": [
  {
   "cell_type": "code",
   "execution_count": 1,
   "metadata": {},
   "outputs": [],
   "source": [
    "%load_ext autoreload\n",
    "%autoreload 2"
   ]
  },
  {
   "cell_type": "code",
   "execution_count": 5,
   "metadata": {},
   "outputs": [],
   "source": [
    "import htrc_features\n",
    "import htrc_features.resolvers\n",
    "from htrc_features import Volume, resolvers\n",
    "import tempfile\n",
    "import os\n",
    "import json\n",
    "import logging"
   ]
  },
  {
   "cell_type": "code",
   "execution_count": 7,
   "metadata": {},
   "outputs": [],
   "source": [
    "logging.getLogger().setLevel(logging.INFO)\n"
   ]
  },
  {
   "cell_type": "markdown",
   "metadata": {},
   "source": [
    "# Some explanations and tests for the new loading methods.\n",
    "\n",
    "This is not a comprehensive set of tests, but should provide the basics.\n",
    "\n",
    "## Loading from a path.\n",
    "\n",
    "An unnamed initial arg to 'Volume' looks at the format to see if it's an ID or a path. This looks like an ID, so reads from disk."
   ]
  },
  {
   "cell_type": "code",
   "execution_count": 8,
   "metadata": {},
   "outputs": [
    {
     "name": "stdout",
     "output_type": "stream",
     "text": [
      "path\n"
     ]
    },
    {
     "data": {
      "text/html": [
       "<div>\n",
       "<style scoped>\n",
       "    .dataframe tbody tr th:only-of-type {\n",
       "        vertical-align: middle;\n",
       "    }\n",
       "\n",
       "    .dataframe tbody tr th {\n",
       "        vertical-align: top;\n",
       "    }\n",
       "\n",
       "    .dataframe thead th {\n",
       "        text-align: right;\n",
       "    }\n",
       "</style>\n",
       "<table border=\"1\" class=\"dataframe\">\n",
       "  <thead>\n",
       "    <tr style=\"text-align: right;\">\n",
       "      <th></th>\n",
       "      <th></th>\n",
       "      <th></th>\n",
       "      <th></th>\n",
       "      <th>count</th>\n",
       "    </tr>\n",
       "    <tr>\n",
       "      <th>page</th>\n",
       "      <th>section</th>\n",
       "      <th>token</th>\n",
       "      <th>pos</th>\n",
       "      <th></th>\n",
       "    </tr>\n",
       "  </thead>\n",
       "  <tbody>\n",
       "    <tr>\n",
       "      <th rowspan=\"2\" valign=\"top\">2</th>\n",
       "      <th rowspan=\"2\" valign=\"top\">body</th>\n",
       "      <th>1C</th>\n",
       "      <th>CC</th>\n",
       "      <td>1</td>\n",
       "    </tr>\n",
       "    <tr>\n",
       "      <th>i</th>\n",
       "      <th>NN</th>\n",
       "      <td>1</td>\n",
       "    </tr>\n",
       "    <tr>\n",
       "      <th rowspan=\"3\" valign=\"top\">7</th>\n",
       "      <th rowspan=\"3\" valign=\"top\">body</th>\n",
       "      <th>.</th>\n",
       "      <th>$.</th>\n",
       "      <td>1</td>\n",
       "    </tr>\n",
       "    <tr>\n",
       "      <th>CHILDREN</th>\n",
       "      <th>NE</th>\n",
       "      <td>1</td>\n",
       "    </tr>\n",
       "    <tr>\n",
       "      <th>MR</th>\n",
       "      <th>NE</th>\n",
       "      <td>1</td>\n",
       "    </tr>\n",
       "  </tbody>\n",
       "</table>\n",
       "</div>"
      ],
      "text/plain": [
       "                           count\n",
       "page section token    pos       \n",
       "2    body    1C       CC       1\n",
       "             i        NN       1\n",
       "7    body    .        $.       1\n",
       "             CHILDREN NE       1\n",
       "             MR       NE       1"
      ]
     },
     "execution_count": 8,
     "metadata": {},
     "output_type": "execute_result"
    }
   ],
   "source": [
    "Volume(\"../data/PZ-volumes/hvd.hwrqs8.json.bz2\").tokenlist().head(5)"
   ]
  },
  {
   "cell_type": "markdown",
   "metadata": {},
   "source": [
    "## Loading over the web\n",
    "\n",
    "This one loads from the web. I think there are probably more gentle defaults than re-pulling from online every time."
   ]
  },
  {
   "cell_type": "code",
   "execution_count": 12,
   "metadata": {},
   "outputs": [
    {
     "name": "stdout",
     "output_type": "stream",
     "text": [
      "http\n"
     ]
    },
    {
     "data": {
      "text/html": [
       "<strong><a href='http://hdl.handle.net/2027/hvd.hwrqs8'>Mr. Rutherford's children. By the authors of \"The wide, wide world,\" \"Queechy,\", \"Dollars and cents,\" etc., etc.</a></strong> by <em>Warner, Susan 1819-1885 ,Orr, John William 1815-1887 engr. ,Warner, Anna Bartlett 1824-1915 joint author. </em> (1855, 278 pages) - <code>hvd.hwrqs8</code>"
      ],
      "text/plain": [
       "<htrc_features.feature_reader.Volume at 0x10fb4afd0>"
      ]
     },
     "execution_count": 12,
     "metadata": {},
     "output_type": "execute_result"
    }
   ],
   "source": [
    "Volume(\"hvd.hwrqs8\")"
   ]
  },
  {
   "cell_type": "markdown",
   "metadata": {},
   "source": [
    "## Using IDs with paths.\n",
    "\n",
    "That's basically the entire old method.\n",
    "\n",
    "But now we can grab things from local sources while still using id arguments.\n",
    "\n",
    "In this example, we can use instead 'localResolver'. We say we're using json, bz2, and a folder named `../data/PZ-volumes'"
   ]
  },
  {
   "cell_type": "code",
   "execution_count": 15,
   "metadata": {},
   "outputs": [
    {
     "data": {
      "text/plain": [
       "<htrc_features.parsers.JsonFileHandler at 0x10fa25950>"
      ]
     },
     "execution_count": 15,
     "metadata": {},
     "output_type": "execute_result"
    }
   ],
   "source": [
    "fileholder = resolvers.LocalResolver(dir = \"../data/PZ-volumes\", format = \"json\", compression = \"bz2\")\n",
    "fand = htrc_features.JsonFileHandler(id = \"hvd.hwrqs8\", id_resolver = fileholder)\n",
    "fand"
   ]
  },
  {
   "cell_type": "markdown",
   "metadata": {},
   "source": [
    "## Fetching over HTTP.\n",
    "\n",
    "While HTTP fetching is currently silent, we should probably warn when that happens without an explicit request. Here's how you'd do that:"
   ]
  },
  {
   "cell_type": "code",
   "execution_count": 16,
   "metadata": {},
   "outputs": [
    {
     "data": {
      "text/html": [
       "<div>\n",
       "<style scoped>\n",
       "    .dataframe tbody tr th:only-of-type {\n",
       "        vertical-align: middle;\n",
       "    }\n",
       "\n",
       "    .dataframe tbody tr th {\n",
       "        vertical-align: top;\n",
       "    }\n",
       "\n",
       "    .dataframe thead th {\n",
       "        text-align: right;\n",
       "    }\n",
       "</style>\n",
       "<table border=\"1\" class=\"dataframe\">\n",
       "  <thead>\n",
       "    <tr style=\"text-align: right;\">\n",
       "      <th></th>\n",
       "      <th></th>\n",
       "      <th></th>\n",
       "      <th></th>\n",
       "      <th>count</th>\n",
       "    </tr>\n",
       "    <tr>\n",
       "      <th>page</th>\n",
       "      <th>section</th>\n",
       "      <th>token</th>\n",
       "      <th>pos</th>\n",
       "      <th></th>\n",
       "    </tr>\n",
       "  </thead>\n",
       "  <tbody>\n",
       "    <tr>\n",
       "      <th rowspan=\"2\" valign=\"top\">2</th>\n",
       "      <th rowspan=\"2\" valign=\"top\">body</th>\n",
       "      <th>1C</th>\n",
       "      <th>CC</th>\n",
       "      <td>1</td>\n",
       "    </tr>\n",
       "    <tr>\n",
       "      <th>i</th>\n",
       "      <th>NN</th>\n",
       "      <td>1</td>\n",
       "    </tr>\n",
       "    <tr>\n",
       "      <th rowspan=\"3\" valign=\"top\">7</th>\n",
       "      <th rowspan=\"3\" valign=\"top\">body</th>\n",
       "      <th>.</th>\n",
       "      <th>$.</th>\n",
       "      <td>1</td>\n",
       "    </tr>\n",
       "    <tr>\n",
       "      <th>CHILDREN</th>\n",
       "      <th>NE</th>\n",
       "      <td>1</td>\n",
       "    </tr>\n",
       "    <tr>\n",
       "      <th>MR</th>\n",
       "      <th>NE</th>\n",
       "      <td>1</td>\n",
       "    </tr>\n",
       "  </tbody>\n",
       "</table>\n",
       "</div>"
      ],
      "text/plain": [
       "                           count\n",
       "page section token    pos       \n",
       "2    body    1C       CC       1\n",
       "             i        NN       1\n",
       "7    body    .        $.       1\n",
       "             CHILDREN NE       1\n",
       "             MR       NE       1"
      ]
     },
     "execution_count": 16,
     "metadata": {},
     "output_type": "execute_result"
    }
   ],
   "source": [
    "fand = htrc_features.JsonFileHandler(id = \"hvd.hwrqs8\", id_resolver = \"http\")\n",
    "fand._make_tokencount_df().head(5)"
   ]
  },
  {
   "cell_type": "markdown",
   "metadata": {},
   "source": [
    "# Fancy zip storage\n",
    "\n",
    "When working with millions of files, some systems start to run out of inodes. Here, we build a storage using the 'ziptreeresolver' method, which assigns each file to one of 4096 zip files based on its name. Here, I'll just create one in a tmpdir and build a resolver."
   ]
  },
  {
   "cell_type": "code",
   "execution_count": 17,
   "metadata": {},
   "outputs": [],
   "source": [
    "zipdir = tempfile.gettempdir()\n",
    "zipholder = resolvers.ZiptreeResolver(zipdir, format = \"json\", compression = \"bz2\")"
   ]
  },
  {
   "cell_type": "markdown",
   "metadata": {},
   "source": [
    "Now we'll go through the PZ-volumes folder and, for every volume, \n",
    "\n",
    "1. Grab the ID.\n",
    "2. Read the bzipped binary data into memory\n",
    "3. Reinsert that binary data into the ziptree holder.\n",
    "\n",
    "Note that we tell the zipholder to use 'json' storage' and 'bz2' compression. It **does not** actually compress the data; that's just to be an appropriate filename for the ID for later retrieval. This behavior is a little wonky, and may be changed or idiot-proofed."
   ]
  },
  {
   "cell_type": "code",
   "execution_count": 18,
   "metadata": {},
   "outputs": [],
   "source": [
    "sample_dir = \"../data/PZ-volumes/\"\n",
    "\n",
    "ids = set()\n",
    "\n",
    "for file in os.listdir(sample_dir):\n",
    "    if file.endswith(\".bz2\"):\n",
    "        id = htrc_features.utils.extract_htid(file)\n",
    "        ids.add(id) # Store for use\n",
    "        raw_file_buffer = open(os.path.join(\"../data/PZ-volumes/\", file), \"rb\")\n",
    "        zipholder.put(raw_file_buffer, id, format = \"json\", compression = \"bz2\")\n",
    "        "
   ]
  },
  {
   "cell_type": "code",
   "execution_count": null,
   "metadata": {},
   "outputs": [],
   "source": []
  },
  {
   "cell_type": "markdown",
   "metadata": {},
   "source": [
    "This new tmpdir is filled with zipfiles. There are 4096 names, built from the first three characters of sha-1 hashes of the filenames."
   ]
  },
  {
   "cell_type": "code",
   "execution_count": 19,
   "metadata": {},
   "outputs": [
    {
     "data": {
      "text/plain": [
       "['b75.zip',\n",
       " '96c.zip',\n",
       " 'e14.zip',\n",
       " '553.zip',\n",
       " 'e99.zip',\n",
       " 'e6b.zip',\n",
       " '7d2.zip',\n",
       " 'e6f.zip',\n",
       " '915.zip',\n",
       " 'd33.zip',\n",
       " 'a97.zip',\n",
       " 'c5f.zip',\n",
       " '173.zip',\n",
       " '613.zip',\n",
       " '940.zip']"
      ]
     },
     "execution_count": 19,
     "metadata": {},
     "output_type": "execute_result"
    }
   ],
   "source": [
    "[z for z in os.listdir(zipdir) if z.endswith(\".zip\")]"
   ]
  },
  {
   "cell_type": "markdown",
   "metadata": {},
   "source": [
    "## `get` calls return buffers\n",
    "\n",
    "If we use the ZiptreeResolver's get method directly, we see it returns a BZ2File."
   ]
  },
  {
   "cell_type": "code",
   "execution_count": 20,
   "metadata": {},
   "outputs": [
    {
     "data": {
      "text/plain": [
       "<bz2.BZ2File at 0x111be7f90>"
      ]
     },
     "execution_count": 20,
     "metadata": {},
     "output_type": "execute_result"
    }
   ],
   "source": [
    "gotten_file = zipholder.get('njp.32101068970662')\n",
    "gotten_file"
   ]
  },
  {
   "cell_type": "markdown",
   "metadata": {},
   "source": [
    "This is a buffered IO object. "
   ]
  },
  {
   "cell_type": "code",
   "execution_count": 21,
   "metadata": {},
   "outputs": [
    {
     "data": {
      "text/plain": [
       "True"
      ]
     },
     "execution_count": 21,
     "metadata": {},
     "output_type": "execute_result"
    }
   ],
   "source": [
    "import io\n",
    "isinstance(gotten_file, io.BufferedIOBase)"
   ]
  },
  {
   "cell_type": "code",
   "execution_count": 22,
   "metadata": {},
   "outputs": [
    {
     "name": "stdout",
     "output_type": "stream",
     "text": [
      "{'schemaVersion': '1.3', 'dateCreated': '2016-06-18T20:43:39.6072562Z', 'volumeIdentifier': 'hvd.hwrevu', 'accessProfile': 'google', 'rightsAttributes': 'pd', 'hathitrustRecordNumber': '966012', 'enumerationChronology': ' ', 'sourceInstitution': 'HVD', 'sourceInstitutionRecordNumber': '001437508', 'oclc': ['2522081'], 'isbn': [], 'issn': [], 'lccn': ['17015285'], 'title': 'The lady with the dog, and other stories,', 'imprint': 'The Macmillan company, 1917.', 'lastUpdateDate': '2014-10-26 03:25:06', 'governmentDocument': False, 'pubDate': '1917', 'pubPlace': 'nyu', 'language': 'eng', 'bibliographicFormat': 'BK', 'genre': ['not fiction'], 'issuance': 'monographic', 'typeOfResource': 'text', 'classification': {}, 'names': ['Chekhov, Anton Pavlovich 1860-1904 ', 'Garnett, Constance Black 1862-1946 '], 'htBibUrl': 'http://catalog.hathitrust.org/api/volumes/full/htid/hvd.hwrevu.json', 'handleUrl': 'http://hdl.handle.net/2027/hvd.hwrevu'}\n"
     ]
    }
   ],
   "source": [
    "import bz2\n",
    "\n",
    "fin = resolvers.ZiptreeResolver(zipdir, \"json\", \"bz2\").get(id = \"hvd.hwrevu\")\n",
    "\n",
    "print(json.loads(fin.read())['metadata'])"
   ]
  },
  {
   "cell_type": "code",
   "execution_count": 23,
   "metadata": {},
   "outputs": [
    {
     "name": "stdout",
     "output_type": "stream",
     "text": [
      "ziptree\n"
     ]
    },
    {
     "data": {
      "text/html": [
       "<strong><a href='http://hdl.handle.net/2027/hvd.hwrevu'>The lady with the dog, and other stories,</a></strong> by <em>Chekhov, Anton Pavlovich 1860-1904 ,Garnett, Constance Black 1862-1946 </em> (1917, 324 pages) - <code>hvd.hwrevu</code>"
      ],
      "text/plain": [
       "<htrc_features.feature_reader.Volume at 0x111a7d110>"
      ]
     },
     "execution_count": 23,
     "metadata": {},
     "output_type": "execute_result"
    }
   ],
   "source": [
    "Volume(\"hvd.hwrevu\", format = \"json\", compression = \"bz2\", id_resolver = \"ziptree\", dir = zipdir)"
   ]
  },
  {
   "cell_type": "code",
   "execution_count": null,
   "metadata": {},
   "outputs": [],
   "source": []
  },
  {
   "cell_type": "code",
   "execution_count": null,
   "metadata": {},
   "outputs": [],
   "source": []
  },
  {
   "cell_type": "code",
   "execution_count": null,
   "metadata": {},
   "outputs": [],
   "source": []
  },
  {
   "cell_type": "code",
   "execution_count": null,
   "metadata": {},
   "outputs": [],
   "source": []
  }
 ],
 "metadata": {
  "kernelspec": {
   "display_name": "Python 3",
   "language": "python",
   "name": "python3"
  },
  "language_info": {
   "codemirror_mode": {
    "name": "ipython",
    "version": 3
   },
   "file_extension": ".py",
   "mimetype": "text/x-python",
   "name": "python",
   "nbconvert_exporter": "python",
   "pygments_lexer": "ipython3",
   "version": "3.7.6"
  }
 },
 "nbformat": 4,
 "nbformat_minor": 4
}
