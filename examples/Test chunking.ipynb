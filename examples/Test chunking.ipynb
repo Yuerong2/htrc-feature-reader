{
 "cells": [
  {
   "cell_type": "code",
   "execution_count": 62,
   "metadata": {},
   "outputs": [],
   "source": [
    "counts = []\n",
    "import numpy as np\n",
    "import pandas as pd\n",
    "import urllib\n",
    "for line in urllib.request.urlopen(\"http://benschmidt.org/sample_page_counts.txt\").read().decode('utf-8').split(\"\\n\"):\n",
    "    try:\n",
    "        counts.append(np.array(list(map(int, line.rstrip().split(',')))))\n",
    "    except:\n",
    "        continue\n",
    "    "
   ]
  },
  {
   "cell_type": "code",
   "execution_count": 63,
   "metadata": {},
   "outputs": [
    {
     "data": {
      "text/plain": [
       "5723"
      ]
     },
     "execution_count": 63,
     "metadata": {},
     "output_type": "execute_result"
    }
   ],
   "source": [
    "len(counts)"
   ]
  },
  {
   "cell_type": "code",
   "execution_count": 47,
   "metadata": {},
   "outputs": [],
   "source": [
    "def current_scheme(pagecounts, chunk_target, overflow_strategy):\n",
    "    cumsums = np.cumsum(pagecounts)\n",
    "    breaks = np.zeros(cumsums.shape[0], np.int)\n",
    "\n",
    "    # Store the start of chunks in an array.\n",
    "\n",
    "    # 1-index the chunk names. \n",
    "    breaks[0] = 1\n",
    "\n",
    "    \n",
    "    # Last entry gives number of words\n",
    "    ntokens = cumsums[-1]\n",
    "    n_chunks = int(int((ntokens) / chunk_target))\n",
    "    if n_chunks == 0:\n",
    "        breaks[0] = 1\n",
    "        return breaks\n",
    "    # Use actual page counts not including zeros\n",
    "\n",
    "    overflow = (ntokens % chunk_target)\n",
    "\n",
    "    if overflow > chunk_target/2:\n",
    "        overflow -= chunk_target\n",
    "        n_chunks +=1\n",
    "\n",
    "    # variable; how far do we want the next one to go?\n",
    "    if overflow_strategy == \"ends\":\n",
    "        target = chunk_target + overflow/2 # + avg_page_n/2\n",
    "    elif overflow_strategy == \"last\":\n",
    "        target = chunk_target\n",
    "    elif overflow_strategy == \"even\":\n",
    "        chunk_target += overflow / n_chunks\n",
    "        target = chunk_target\n",
    "\n",
    "    # Proportion of chunk_target that the length adjustment should cap at\n",
    "    max_adjust = .1 * chunk_target\n",
    "    # When the remaining words per chunk is higher/lower that x proportion\n",
    "    #  of the chunk_target, add/remove a chunk.\n",
    "    new_chunk_threshold = .4 * chunk_target\n",
    "\n",
    "    i = 1\n",
    "    while True:\n",
    "        remaining_chunks = n_chunks - i\n",
    "        if not remaining_chunks:\n",
    "            break\n",
    "\n",
    "        last_page = np.argmin(np.abs(cumsums - target))\n",
    "        if last_page + 1 >= len(breaks):\n",
    "            break\n",
    "\n",
    "        breaks[last_page+1] = 1\n",
    "\n",
    "        # Remainder adjust - nudge next section slightly, to try to balance\n",
    "        # out consistently under or oversized parts.\n",
    "        remaining_nwords = (cumsums[-1] - cumsums[last_page])\n",
    "        remaining_word_per_chunk_diff = (remaining_nwords / remaining_chunks) - chunk_target\n",
    "        if abs(remaining_word_per_chunk_diff) > new_chunk_threshold:\n",
    "            n_chunks += np.sign(remaining_word_per_chunk_diff)\n",
    "\n",
    "        if overflow_strategy == 'even':\n",
    "            adjust = remaining_word_per_chunk_diff\n",
    "        else:\n",
    "            # Adjust slightly - allowing more adjustment early\n",
    "            adjust = (0.5+0.5*remaining_chunks/n_chunks) * remaining_word_per_chunk_diff\n",
    "        if np.abs(adjust) > max_adjust:\n",
    "            adjust = max_adjust * np.sign(adjust)\n",
    "        target = chunk_target + cumsums[last_page] + adjust\n",
    "        i += 1\n",
    "\n",
    "    return np.cumsum(breaks)\n",
    "\n"
   ]
  },
  {
   "cell_type": "code",
   "execution_count": 79,
   "metadata": {},
   "outputs": [],
   "source": [
    "def end_chunks(page_counts, target, even = False, two_sided = True, procrastinate = False):\n",
    "    \n",
    "    # Register front and back offsets\n",
    "    position = [0, len(page_counts)]\n",
    "\n",
    "    breaks = np.zeros(page_counts.shape[0])\n",
    "    breaks[0] = 1\n",
    "    \n",
    "    while True:\n",
    "        forward = np.cumsum(page_counts)\n",
    "        backward = np.cumsum(np.flip(page_counts))\n",
    "        \n",
    "        words_left = forward[-1]\n",
    "        # Exit conditions\n",
    "        if words_left < (target * 1.5):\n",
    "            break\n",
    "            \n",
    "        overflow = words_left % target\n",
    "    \n",
    "        if (target - overflow) < overflow:\n",
    "            overflow = -(target - overflow)\n",
    "            \n",
    "        if even:\n",
    "            chunks_remaining = np.round(words_left/target)\n",
    "            if chunks_remaining > 2 and two_sided:\n",
    "                # The share belonging here\n",
    "                overflow = overflow * 2 / chunks_remaining\n",
    "            if (chunks_remaining > 1) and (two_sided == False):\n",
    "                overflow = overflow/chunks_remaining\n",
    "        # Split the overflow across the ends\n",
    "        if two_sided:\n",
    "            loc_target = target + overflow/2\n",
    "        else:\n",
    "            loc_target = target + overflow\n",
    "        if procrastinate:\n",
    "            # No overflow handling\n",
    "            loc_target = target\n",
    "            \n",
    "        #What is this number supposed to be?    \n",
    "        if two_sided and words_left < (target * 2.5):\n",
    "            midpoint = np.argmin(np.abs(forward - words_left/2))\n",
    "            breaks[midpoint + position[0] + 1]  = 1\n",
    "            break\n",
    "\n",
    "        best_front = np.argmin(np.abs(forward - loc_target))\n",
    "        position[0] = position[0] + best_front + 1\n",
    "        breaks[position[0]] = 1\n",
    "        \n",
    "        if two_sided:\n",
    "            best_back = np.argmin(np.abs(backward - loc_target))\n",
    "            position[1] = position[1] - best_back - 1\n",
    "            breaks[position[1]] = 1\n",
    "            new_end = page_counts.shape[0] - best_back - 1\n",
    "        else:\n",
    "            # Leave the back for later.\n",
    "            new_end = page_counts.shape[0] + 1\n",
    "            \n",
    "        page_counts = page_counts[(best_front + 1):(new_end)]\n",
    "        \n",
    "    return np.cumsum(breaks)\n"
   ]
  },
  {
   "cell_type": "code",
   "execution_count": 49,
   "metadata": {},
   "outputs": [],
   "source": [
    "def dumb_chunks(page_counts, target = 10000):\n",
    "    cumsums = np.cumsum(page_counts)\n",
    "    n_chunks = np.round(cumsums[-1]/target)\n",
    "    chunk_size = (cumsums[-1]) // n_chunks + 1\n",
    "    return cumsums // chunk_size"
   ]
  },
  {
   "cell_type": "code",
   "execution_count": 50,
   "metadata": {},
   "outputs": [],
   "source": [
    "\n",
    "\n",
    "def test_algorithm(algorithm, print_every = False, **kwargs):\n",
    "    forward = [[] for i in range(3)]\n",
    "    backward = [[] for i in range(3)]\n",
    "    mids = []\n",
    "    centers = []\n",
    "    all = []\n",
    "\n",
    "\n",
    "    work_bias = []\n",
    "\n",
    "    target = 10000\n",
    "    vals = []\n",
    "    for i, p in enumerate(counts):\n",
    "        if print_every and i % print_every == 0:\n",
    "            print(i)\n",
    "        try:\n",
    "            chunks = algorithm(p, **kwargs)\n",
    "        except:\n",
    "            raise\n",
    "        v = pd.DataFrame({'chunk':chunks, \"words\": p}).groupby('chunk')['words']\\\n",
    "        .agg(['sum', 'count'])['sum']\n",
    "        f = pd.DataFrame({\"error\": v.values - target})\n",
    "        f['chunk'] = range(f.shape[0])\n",
    "        f['book'] = i\n",
    "        if len(f) < 3:\n",
    "            f['which'] = \"short\"\n",
    "        else:\n",
    "            f[\"which\"] = [\"first\"] + [\"mid\"] * (f.shape[0] - 2) + [\"last\"]\n",
    "        vals.append(f)\n",
    "    return pd.concat(vals, ignore_index = True)\n"
   ]
  },
  {
   "cell_type": "markdown",
   "metadata": {},
   "source": [
    "# Current strategy\n",
    "\n",
    "The current strategy isn't bad."
   ]
  },
  {
   "cell_type": "code",
   "execution_count": 65,
   "metadata": {},
   "outputs": [
    {
     "name": "stdout",
     "output_type": "stream",
     "text": [
      "0\n",
      "1000\n",
      "2000\n",
      "3000\n",
      "4000\n",
      "5000\n"
     ]
    },
    {
     "data": {
      "text/html": [
       "<div>\n",
       "<style scoped>\n",
       "    .dataframe tbody tr th:only-of-type {\n",
       "        vertical-align: middle;\n",
       "    }\n",
       "\n",
       "    .dataframe tbody tr th {\n",
       "        vertical-align: top;\n",
       "    }\n",
       "\n",
       "    .dataframe thead th {\n",
       "        text-align: right;\n",
       "    }\n",
       "</style>\n",
       "<table border=\"1\" class=\"dataframe\">\n",
       "  <thead>\n",
       "    <tr style=\"text-align: right;\">\n",
       "      <th></th>\n",
       "      <th>mean</th>\n",
       "      <th>std</th>\n",
       "      <th>min</th>\n",
       "      <th>max</th>\n",
       "    </tr>\n",
       "    <tr>\n",
       "      <th>which</th>\n",
       "      <th></th>\n",
       "      <th></th>\n",
       "      <th></th>\n",
       "      <th></th>\n",
       "    </tr>\n",
       "  </thead>\n",
       "  <tbody>\n",
       "    <tr>\n",
       "      <th>first</th>\n",
       "      <td>-2.386926</td>\n",
       "      <td>461.769950</td>\n",
       "      <td>-2378</td>\n",
       "      <td>10601</td>\n",
       "    </tr>\n",
       "    <tr>\n",
       "      <th>last</th>\n",
       "      <td>-1.398985</td>\n",
       "      <td>461.840757</td>\n",
       "      <td>-4733</td>\n",
       "      <td>3049</td>\n",
       "    </tr>\n",
       "    <tr>\n",
       "      <th>mid</th>\n",
       "      <td>-2.090569</td>\n",
       "      <td>323.311152</td>\n",
       "      <td>-2916</td>\n",
       "      <td>2830</td>\n",
       "    </tr>\n",
       "    <tr>\n",
       "      <th>short</th>\n",
       "      <td>-3221.590183</td>\n",
       "      <td>4700.954205</td>\n",
       "      <td>-9999</td>\n",
       "      <td>4977</td>\n",
       "    </tr>\n",
       "  </tbody>\n",
       "</table>\n",
       "</div>"
      ],
      "text/plain": [
       "              mean          std   min    max\n",
       "which                                       \n",
       "first    -2.386926   461.769950 -2378  10601\n",
       "last     -1.398985   461.840757 -4733   3049\n",
       "mid      -2.090569   323.311152 -2916   2830\n",
       "short -3221.590183  4700.954205 -9999   4977"
      ]
     },
     "execution_count": 65,
     "metadata": {},
     "output_type": "execute_result"
    }
   ],
   "source": [
    "x = test_algorithm(current_scheme, chunk_target = 10000, overflow_strategy=\"even\", print_every = 1000)\n",
    "x.groupby('which')['error'].agg(['mean', 'std', 'min', 'max'])"
   ]
  },
  {
   "cell_type": "markdown",
   "metadata": {},
   "source": [
    "### Variation within books\n",
    "\n",
    "I think this is really important; the current method generally hovers in on an average for any individual book that may not be target chunk size. While overall stats are good, each book is typically 400 words of average chunks off the target, high or low."
   ]
  },
  {
   "cell_type": "code",
   "execution_count": 66,
   "metadata": {},
   "outputs": [
    {
     "data": {
      "text/plain": [
       "mean      -5.294905\n",
       "max     1775.000000\n",
       "min    -2330.000000\n",
       "std      411.674475\n",
       "Name: error, dtype: float64"
      ]
     },
     "execution_count": 66,
     "metadata": {},
     "output_type": "execute_result"
    }
   ],
   "source": [
    "x[x.which=='mid'].groupby('book')['error'].agg('mean').reset_index()['error'].agg(['mean', 'max', 'min', 'std'])"
   ]
  },
  {
   "cell_type": "markdown",
   "metadata": {},
   "source": [
    "# Two-sided end-clobbering\n",
    "\n",
    "This produces slightly lower std deviations on the main class at the cost of significantly higher in first and last. "
   ]
  },
  {
   "cell_type": "code",
   "execution_count": 67,
   "metadata": {},
   "outputs": [
    {
     "name": "stdout",
     "output_type": "stream",
     "text": [
      "0\n",
      "1000\n",
      "2000\n",
      "3000\n",
      "4000\n",
      "5000\n"
     ]
    },
    {
     "data": {
      "text/html": [
       "<div>\n",
       "<style scoped>\n",
       "    .dataframe tbody tr th:only-of-type {\n",
       "        vertical-align: middle;\n",
       "    }\n",
       "\n",
       "    .dataframe tbody tr th {\n",
       "        vertical-align: top;\n",
       "    }\n",
       "\n",
       "    .dataframe thead th {\n",
       "        text-align: right;\n",
       "    }\n",
       "</style>\n",
       "<table border=\"1\" class=\"dataframe\">\n",
       "  <thead>\n",
       "    <tr style=\"text-align: right;\">\n",
       "      <th></th>\n",
       "      <th>mean</th>\n",
       "      <th>std</th>\n",
       "      <th>min</th>\n",
       "      <th>max</th>\n",
       "    </tr>\n",
       "    <tr>\n",
       "      <th>which</th>\n",
       "      <th></th>\n",
       "      <th></th>\n",
       "      <th></th>\n",
       "      <th></th>\n",
       "    </tr>\n",
       "  </thead>\n",
       "  <tbody>\n",
       "    <tr>\n",
       "      <th>first</th>\n",
       "      <td>-13.892744</td>\n",
       "      <td>1454.993077</td>\n",
       "      <td>-2885</td>\n",
       "      <td>10601</td>\n",
       "    </tr>\n",
       "    <tr>\n",
       "      <th>last</th>\n",
       "      <td>-16.773218</td>\n",
       "      <td>1447.925811</td>\n",
       "      <td>-2933</td>\n",
       "      <td>3049</td>\n",
       "    </tr>\n",
       "    <tr>\n",
       "      <th>mid</th>\n",
       "      <td>0.271844</td>\n",
       "      <td>278.030147</td>\n",
       "      <td>-2999</td>\n",
       "      <td>3893</td>\n",
       "    </tr>\n",
       "    <tr>\n",
       "      <th>short</th>\n",
       "      <td>-989.549317</td>\n",
       "      <td>3066.104741</td>\n",
       "      <td>-9977</td>\n",
       "      <td>4977</td>\n",
       "    </tr>\n",
       "  </tbody>\n",
       "</table>\n",
       "</div>"
      ],
      "text/plain": [
       "             mean          std   min    max\n",
       "which                                      \n",
       "first  -13.892744  1454.993077 -2885  10601\n",
       "last   -16.773218  1447.925811 -2933   3049\n",
       "mid      0.271844   278.030147 -2999   3893\n",
       "short -989.549317  3066.104741 -9977   4977"
      ]
     },
     "execution_count": 67,
     "metadata": {},
     "output_type": "execute_result"
    }
   ],
   "source": [
    "x = test_algorithm(end_chunks, target = 10000, even = False, two_sided = True, procrastinate = False, print_every = 1000)\n",
    "x.groupby('which')['error'].agg(['mean', 'std', 'min', 'max'])\n"
   ]
  },
  {
   "cell_type": "markdown",
   "metadata": {},
   "source": [
    "### Much less deviation *within* books. \n",
    "\n",
    "While the overall stats are similar, this method is much better in that the average deviation by book is much more tightly constrained. Each book's mean error std of 51 words off the target, compared to 414 to the current method."
   ]
  },
  {
   "cell_type": "code",
   "execution_count": 69,
   "metadata": {},
   "outputs": [
    {
     "data": {
      "text/plain": [
       "mean     -0.306053\n",
       "max     587.000000\n",
       "min    -686.000000\n",
       "std      51.753604\n",
       "Name: error, dtype: float64"
      ]
     },
     "execution_count": 69,
     "metadata": {},
     "output_type": "execute_result"
    }
   ],
   "source": [
    "x[x.which=='mid'].groupby('book')['error'].agg('mean').reset_index()['error'].agg(['mean', 'max', 'min', 'std'])"
   ]
  },
  {
   "cell_type": "code",
   "execution_count": null,
   "metadata": {},
   "outputs": [],
   "source": []
  },
  {
   "cell_type": "markdown",
   "metadata": {},
   "source": [
    "### Slightly better even chunking\n",
    "\n",
    "The stats for even chunking (allocating the remainder slowly) come out a little better than the current method. But the within-book means still show much higher variance."
   ]
  },
  {
   "cell_type": "code",
   "execution_count": 71,
   "metadata": {},
   "outputs": [
    {
     "data": {
      "text/html": [
       "<div>\n",
       "<style scoped>\n",
       "    .dataframe tbody tr th:only-of-type {\n",
       "        vertical-align: middle;\n",
       "    }\n",
       "\n",
       "    .dataframe tbody tr th {\n",
       "        vertical-align: top;\n",
       "    }\n",
       "\n",
       "    .dataframe thead th {\n",
       "        text-align: right;\n",
       "    }\n",
       "</style>\n",
       "<table border=\"1\" class=\"dataframe\">\n",
       "  <thead>\n",
       "    <tr style=\"text-align: right;\">\n",
       "      <th></th>\n",
       "      <th>mean</th>\n",
       "      <th>std</th>\n",
       "      <th>min</th>\n",
       "      <th>max</th>\n",
       "    </tr>\n",
       "    <tr>\n",
       "      <th>which</th>\n",
       "      <th></th>\n",
       "      <th></th>\n",
       "      <th></th>\n",
       "      <th></th>\n",
       "    </tr>\n",
       "  </thead>\n",
       "  <tbody>\n",
       "    <tr>\n",
       "      <th>first</th>\n",
       "      <td>-2.386926</td>\n",
       "      <td>461.769950</td>\n",
       "      <td>-2378</td>\n",
       "      <td>10601</td>\n",
       "    </tr>\n",
       "    <tr>\n",
       "      <th>last</th>\n",
       "      <td>-1.115718</td>\n",
       "      <td>442.570489</td>\n",
       "      <td>-1966</td>\n",
       "      <td>3049</td>\n",
       "    </tr>\n",
       "    <tr>\n",
       "      <th>mid</th>\n",
       "      <td>-4.038980</td>\n",
       "      <td>319.339288</td>\n",
       "      <td>-2830</td>\n",
       "      <td>3893</td>\n",
       "    </tr>\n",
       "    <tr>\n",
       "      <th>short</th>\n",
       "      <td>-989.549317</td>\n",
       "      <td>3066.104741</td>\n",
       "      <td>-9977</td>\n",
       "      <td>4977</td>\n",
       "    </tr>\n",
       "  </tbody>\n",
       "</table>\n",
       "</div>"
      ],
      "text/plain": [
       "             mean          std   min    max\n",
       "which                                      \n",
       "first   -2.386926   461.769950 -2378  10601\n",
       "last    -1.115718   442.570489 -1966   3049\n",
       "mid     -4.038980   319.339288 -2830   3893\n",
       "short -989.549317  3066.104741 -9977   4977"
      ]
     },
     "execution_count": 71,
     "metadata": {},
     "output_type": "execute_result"
    }
   ],
   "source": [
    "x = test_algorithm(end_chunks, target = 10000, even = True, two_sided = True, procrastinate = False)\n",
    "x.groupby('which')['error'].agg(['mean', 'std', 'min', 'max'])"
   ]
  },
  {
   "cell_type": "code",
   "execution_count": 74,
   "metadata": {},
   "outputs": [
    {
     "data": {
      "text/plain": [
       "mean     -19.233618\n",
       "max     4921.000000\n",
       "min    -5195.000000\n",
       "std      906.224510\n",
       "Name: error, dtype: float64"
      ]
     },
     "execution_count": 74,
     "metadata": {},
     "output_type": "execute_result"
    }
   ],
   "source": [
    "x[x.which=='mid'].groupby('book')['error'].agg('mean').reset_index()['error'].agg(['mean', 'max', 'min', 'std'])"
   ]
  },
  {
   "cell_type": "code",
   "execution_count": 75,
   "metadata": {},
   "outputs": [
    {
     "data": {
      "text/html": [
       "<div>\n",
       "<style scoped>\n",
       "    .dataframe tbody tr th:only-of-type {\n",
       "        vertical-align: middle;\n",
       "    }\n",
       "\n",
       "    .dataframe tbody tr th {\n",
       "        vertical-align: top;\n",
       "    }\n",
       "\n",
       "    .dataframe thead th {\n",
       "        text-align: right;\n",
       "    }\n",
       "</style>\n",
       "<table border=\"1\" class=\"dataframe\">\n",
       "  <thead>\n",
       "    <tr style=\"text-align: right;\">\n",
       "      <th></th>\n",
       "      <th>mean</th>\n",
       "      <th>std</th>\n",
       "      <th>min</th>\n",
       "      <th>max</th>\n",
       "    </tr>\n",
       "    <tr>\n",
       "      <th>which</th>\n",
       "      <th></th>\n",
       "      <th></th>\n",
       "      <th></th>\n",
       "      <th></th>\n",
       "    </tr>\n",
       "  </thead>\n",
       "  <tbody>\n",
       "    <tr>\n",
       "      <th>first</th>\n",
       "      <td>1.646922</td>\n",
       "      <td>217.191828</td>\n",
       "      <td>-2378</td>\n",
       "      <td>10601</td>\n",
       "    </tr>\n",
       "    <tr>\n",
       "      <th>last</th>\n",
       "      <td>1.708695</td>\n",
       "      <td>168.076652</td>\n",
       "      <td>-2930</td>\n",
       "      <td>1265</td>\n",
       "    </tr>\n",
       "    <tr>\n",
       "      <th>mid</th>\n",
       "      <td>-7.127571</td>\n",
       "      <td>726.881872</td>\n",
       "      <td>-9981</td>\n",
       "      <td>4998</td>\n",
       "    </tr>\n",
       "    <tr>\n",
       "      <th>short</th>\n",
       "      <td>-989.549317</td>\n",
       "      <td>3066.104741</td>\n",
       "      <td>-9977</td>\n",
       "      <td>4977</td>\n",
       "    </tr>\n",
       "  </tbody>\n",
       "</table>\n",
       "</div>"
      ],
      "text/plain": [
       "             mean          std   min    max\n",
       "which                                      \n",
       "first    1.646922   217.191828 -2378  10601\n",
       "last     1.708695   168.076652 -2930   1265\n",
       "mid     -7.127571   726.881872 -9981   4998\n",
       "short -989.549317  3066.104741 -9977   4977"
      ]
     },
     "execution_count": 75,
     "metadata": {},
     "output_type": "execute_result"
    }
   ],
   "source": [
    "# Clobber the middle. A weird strategy\n",
    "x = test_algorithm(end_chunks, target = 10000, even = False, two_sided = True, procrastinate = True)\n",
    "x.groupby('which')['error'].agg(['mean', 'std', 'min', 'max'])"
   ]
  },
  {
   "cell_type": "markdown",
   "metadata": {},
   "source": [
    "### Here's a clobber the last strategy.\n",
    "\n",
    "It gets extremely low stds on the first and mid chunks (~222)"
   ]
  },
  {
   "cell_type": "code",
   "execution_count": 80,
   "metadata": {},
   "outputs": [
    {
     "data": {
      "text/html": [
       "<div>\n",
       "<style scoped>\n",
       "    .dataframe tbody tr th:only-of-type {\n",
       "        vertical-align: middle;\n",
       "    }\n",
       "\n",
       "    .dataframe tbody tr th {\n",
       "        vertical-align: top;\n",
       "    }\n",
       "\n",
       "    .dataframe thead th {\n",
       "        text-align: right;\n",
       "    }\n",
       "</style>\n",
       "<table border=\"1\" class=\"dataframe\">\n",
       "  <thead>\n",
       "    <tr style=\"text-align: right;\">\n",
       "      <th></th>\n",
       "      <th>mean</th>\n",
       "      <th>std</th>\n",
       "      <th>min</th>\n",
       "      <th>max</th>\n",
       "    </tr>\n",
       "    <tr>\n",
       "      <th>which</th>\n",
       "      <th></th>\n",
       "      <th></th>\n",
       "      <th></th>\n",
       "      <th></th>\n",
       "    </tr>\n",
       "  </thead>\n",
       "  <tbody>\n",
       "    <tr>\n",
       "      <th>first</th>\n",
       "      <td>1.646922</td>\n",
       "      <td>217.191828</td>\n",
       "      <td>-2378</td>\n",
       "      <td>10601</td>\n",
       "    </tr>\n",
       "    <tr>\n",
       "      <th>last</th>\n",
       "      <td>-46.687540</td>\n",
       "      <td>2891.640905</td>\n",
       "      <td>-5509</td>\n",
       "      <td>4999</td>\n",
       "    </tr>\n",
       "    <tr>\n",
       "      <th>mid</th>\n",
       "      <td>-1.527759</td>\n",
       "      <td>222.893664</td>\n",
       "      <td>-3565</td>\n",
       "      <td>2495</td>\n",
       "    </tr>\n",
       "    <tr>\n",
       "      <th>short</th>\n",
       "      <td>-989.549317</td>\n",
       "      <td>3224.958209</td>\n",
       "      <td>-9977</td>\n",
       "      <td>4979</td>\n",
       "    </tr>\n",
       "  </tbody>\n",
       "</table>\n",
       "</div>"
      ],
      "text/plain": [
       "             mean          std   min    max\n",
       "which                                      \n",
       "first    1.646922   217.191828 -2378  10601\n",
       "last   -46.687540  2891.640905 -5509   4999\n",
       "mid     -1.527759   222.893664 -3565   2495\n",
       "short -989.549317  3224.958209 -9977   4979"
      ]
     },
     "execution_count": 80,
     "metadata": {},
     "output_type": "execute_result"
    }
   ],
   "source": [
    "# Clobber the last.\n",
    "x = test_algorithm(end_chunks, target = 10000, even = False, two_sided = False, procrastinate = True)\n",
    "x.groupby('which')['error'].agg(['mean', 'std', 'min', 'max'])"
   ]
  },
  {
   "cell_type": "code",
   "execution_count": 81,
   "metadata": {},
   "outputs": [
    {
     "data": {
      "text/plain": [
       "mean      1.789731\n",
       "max     681.857143\n",
       "min    -499.141892\n",
       "std      58.569201\n",
       "Name: error, dtype: float64"
      ]
     },
     "execution_count": 81,
     "metadata": {},
     "output_type": "execute_result"
    }
   ],
   "source": [
    "x[x.which=='mid'].groupby('book')['error'].agg('mean').reset_index()['error'].agg(['mean', 'max', 'min', 'std'])"
   ]
  },
  {
   "cell_type": "markdown",
   "metadata": {},
   "source": [
    "### A single-sided even strategy\n",
    "\n",
    "This works quite well; maybe slightly better than the current single-sided even strategy."
   ]
  },
  {
   "cell_type": "code",
   "execution_count": null,
   "metadata": {},
   "outputs": [],
   "source": [
    "x = test_algorithm(end_chunks, target = 10000, even = True, two_sided = False, procrastinate = False)\n",
    "x.groupby('which')['error'].agg(['mean', 'std', 'min', 'max'])"
   ]
  },
  {
   "cell_type": "code",
   "execution_count": null,
   "metadata": {},
   "outputs": [],
   "source": [
    "x[x.which=='mid'].groupby('book')['error'].agg('mean').reset_index()['error'].agg(['mean', 'max', 'min', 'std'])"
   ]
  }
 ],
 "metadata": {
  "kernelspec": {
   "display_name": "Python [conda env:htrc]",
   "language": "python",
   "name": "conda-env-htrc-py"
  },
  "language_info": {
   "codemirror_mode": {
    "name": "ipython",
    "version": 3
   },
   "file_extension": ".py",
   "mimetype": "text/x-python",
   "name": "python",
   "nbconvert_exporter": "python",
   "pygments_lexer": "ipython3",
   "version": "3.6.10"
  }
 },
 "nbformat": 4,
 "nbformat_minor": 4
}
